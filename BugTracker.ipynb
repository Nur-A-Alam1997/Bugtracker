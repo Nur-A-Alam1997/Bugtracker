{
  "nbformat": 4,
  "nbformat_minor": 0,
  "metadata": {
    "colab": {
      "name": "BugTracker.ipynb",
      "provenance": [],
      "collapsed_sections": [],
      "authorship_tag": "ABX9TyN0qHBMn/DXCumi9GZHTQWW",
      "include_colab_link": true
    },
    "kernelspec": {
      "name": "python3",
      "display_name": "Python 3"
    },
    "language_info": {
      "name": "python"
    }
  },
  "cells": [
    {
      "cell_type": "markdown",
      "metadata": {
        "id": "view-in-github",
        "colab_type": "text"
      },
      "source": [
        "<a href=\"https://colab.research.google.com/github/Nur-A-Alam1997/Bugtracker/blob/main/BugTracker.ipynb\" target=\"_parent\"><img src=\"https://colab.research.google.com/assets/colab-badge.svg\" alt=\"Open In Colab\"/></a>"
      ]
    },
    {
      "cell_type": "code",
      "metadata": {
        "id": "itBCJRBE4ImP",
        "colab": {
          "base_uri": "https://localhost:8080/"
        },
        "outputId": "1e999af4-6f7c-46c8-bb88-4eb3db6d5155"
      },
      "source": [
        "%%writefile BugTracker.py\n",
        "from datetime import date, time, datetime\n",
        "class BugTracker:\n",
        "\n",
        "    _counter = 0\n",
        "        \n",
        "    def __init__(self, name:str, email:str, tag:str, bug_description:str) :\n",
        "        \n",
        "        self._name =name\n",
        "        self._email = email\n",
        "        self._tag = tag\n",
        "        self.bug_description = bug_description\n",
        "\n",
        "\n",
        "        self._state= \"In progress\"\n",
        "        self._logged_date= datetime.now().strftime('%Y-%m-%d %H:%M:%S')\n",
        "        self._sdate= \"-\"\n",
        "\n",
        "        type(self)._counter += 1\n",
        "        self.id = self._counter\n",
        "    \n",
        "    @property\n",
        "    def name(self):\n",
        "        return f\"Name : {self._name}\"\n",
        "\n",
        "    @property\n",
        "    def email(self):\n",
        "        return f\"Email : {self._email}\"\n",
        "    \n",
        "    @property\n",
        "    def bug_description(self):\n",
        "        return f\"Bug_description : {self._bug_description}\"\n",
        "    \n",
        "    @property\n",
        "    def tag(self):\n",
        "        return f\"Tag name : {self._tag}\"\n",
        "    \n",
        "    @property\n",
        "    def status(self):\n",
        "        return f\"Current Status : {self._state}\"\n",
        "    \n",
        "    @name.setter\n",
        "    def name(self,name):\n",
        "        self._name=name\n",
        "\n",
        "    @email.setter\n",
        "    def email(self,email):\n",
        "        self._email=email\n",
        "        \n",
        "\n",
        "    @tag.setter\n",
        "    def tag(self,tag):\n",
        "        self._tag=tag\n",
        "        \n",
        "\n",
        "    @bug_description.setter\n",
        "    def bug_description(self,bug_description):\n",
        "        self._bug_description=bug_description\n",
        "        \n",
        "\n",
        "    @status.setter\n",
        "    def status(self,state):\n",
        "        self._state=state\n",
        "        \n",
        "\n",
        "    @property\n",
        "    def get_details(self) :\n",
        "\n",
        "        print( \"User entered an email :\", self._email )\n",
        "        print( \"User entered a tag name :\", self._tag )\n",
        "        print( \"User entered a bug Details :\", self._bug_description )\n",
        "        print( \"Current Status :\", self._state )\n",
        "        print( \"Log time :\", self._logged_date )\n",
        "        print(\"Your Complain Id :\",self.id)\n",
        "\n",
        "    # @property\n",
        "    # def solvedDetails(self) :\n",
        "        \n",
        "    #     print( \"User entered an email :\", self._email )\n",
        "    #     print( \"User entered a tag name :\", self._tag )\n",
        "    #     print( \"User entered a bug Details :\", self._bug_description )\n",
        "    #     print( \"current Status :\", self._state )\n",
        "    #     print( \"Solved by :\", self._dev )\n",
        "    #     print( \"Solved time :\", self._sdate )\n"
      ],
      "execution_count": null,
      "outputs": [
        {
          "output_type": "stream",
          "text": [
            "Writing BugTracker.py\n"
          ],
          "name": "stdout"
        }
      ]
    },
    {
      "cell_type": "code",
      "metadata": {
        "id": "yRaFigz5xMi6"
      },
      "source": [
        "# %%writefile BugTracker_input.py\n",
        "def main():\n",
        "\n",
        "    print( \"Please enter a name\" )\n",
        "    name=input()\n",
        "    print( \"Please enter an email\" )\n",
        "    email=input()\n",
        "    print( \"Please enter a tag name for bug\" )\n",
        "    tag=input()\n",
        "    print(\"Please log your bug description\" )\n",
        "    bug_description=input()\n",
        "\n",
        "    return name, email, tag, bug_description"
      ],
      "execution_count": null,
      "outputs": []
    },
    {
      "cell_type": "code",
      "metadata": {
        "id": "1GwNMTOkwoKO"
      },
      "source": [
        "# %%writefile BugTracker_init_.py\n",
        "\n",
        "import database\n",
        "from BugTracker import BugTracker\n",
        "\n",
        "if __name__==\"__main__\":\n",
        "\n",
        "    conn=database.connect()\n",
        "    database.create_table(conn)\n",
        "    \n",
        "    name, email, tag, bug_description = \"None\", \"None\", \"None\", \"None\" #=main()\n",
        "    complain=BugTracker(name, email, tag, bug_description)\n",
        "\n",
        "    database.add_complain(conn, complain.name, complain.email, complain.tag,\n",
        "                complain.bug_description,complain._logged_date, complain.status, \n",
        "                complain._sdate)\n",
        "    \n",
        "    # database.get_complain(conn)"
      ],
      "execution_count": null,
      "outputs": []
    },
    {
      "cell_type": "code",
      "metadata": {
        "id": "T900T2ln3EY0"
      },
      "source": [
        "# db connection\n",
        "# import database\n",
        "\n",
        "# conn=database.connect()\n",
        "# databage.create_table(conn)\n",
        "\n",
        "# databage.add_complain(conn, complain.name, complain.email, complain.tag, complain.bug_description,\\\n",
        "#                     complain._logged_date, complain.state, complain._sdate)\n",
        "# databage.get_complain(conn)"
      ],
      "execution_count": null,
      "outputs": []
    },
    {
      "cell_type": "code",
      "metadata": {
        "id": "0xIA1iJbGliv"
      },
      "source": [
        "# %%writefile BugTracker_Test.py\n",
        "complain.name =\"Nur A Alam Patwary\"\n",
        "complain.email = \"nuraalamp@gmail.com\"\n",
        "complain.tag = \"Virus\"\n",
        "complain.bug_description =\"Very Very Awry with Sharp Teeth Like Hazelnuts\""
      ],
      "execution_count": null,
      "outputs": []
    },
    {
      "cell_type": "code",
      "metadata": {
        "colab": {
          "base_uri": "https://localhost:8080/",
          "height": 35
        },
        "id": "DxK4_Zm99_u5",
        "outputId": "11add7df-50ec-49aa-8a58-cb15d1e46a34"
      },
      "source": [
        "complain._sdate"
      ],
      "execution_count": null,
      "outputs": [
        {
          "output_type": "execute_result",
          "data": {
            "application/vnd.google.colaboratory.intrinsic+json": {
              "type": "string"
            },
            "text/plain": [
              "'-'"
            ]
          },
          "metadata": {
            "tags": []
          },
          "execution_count": 62
        }
      ]
    },
    {
      "cell_type": "code",
      "metadata": {
        "colab": {
          "base_uri": "https://localhost:8080/"
        },
        "id": "tQYNObS_LtmW",
        "outputId": "449828a0-11e7-476f-df96-21cbef0b0a3e"
      },
      "source": [
        "complain.get_details"
      ],
      "execution_count": null,
      "outputs": [
        {
          "output_type": "stream",
          "text": [
            "User entered an email : nuraalamp@gmail.com\n",
            "User entered a tag name : Virus\n",
            "User entered a bug Details : Very Very Awry with Sharp Teeth Like Hazelnuts\n",
            "Current Status : In progress\n",
            "Log time : 2021-03-31 11:07:46\n",
            "Your Complain Id : 1\n"
          ],
          "name": "stdout"
        }
      ]
    },
    {
      "cell_type": "code",
      "metadata": {
        "id": "irJRE_6BJOPh"
      },
      "source": [
        "# %%writefile BugTracker_Dev_class_Correct.py\n",
        "# from BugTracker import BugTracker\n",
        "from datetime import date, time, datetime\n",
        "\n",
        "class Dev:\n",
        "\n",
        "    def __init__(self) :\n",
        "        \n",
        "        self.name = str\n",
        "        self._sdate = datetime.now().strftime('%Y-%m-%d %H:%M:%S')\n",
        "        self._state = str\n",
        "\n",
        "    @property\n",
        "    def name(self):\n",
        "        return f\"Name : {self._name}\"\n",
        "\n",
        "\n",
        "    @name.setter\n",
        "    def name(self,name):\n",
        "        self._name=name\n",
        "\n",
        "\n",
        "    @property\n",
        "    def add_object(self):\n",
        "        return self.Obj\n",
        "\n",
        "    @add_object.setter\n",
        "    def add_object(self,Obj):\n",
        "        self.Obj=Obj\n",
        "        \n",
        "    @property\n",
        "    def status(self) :\n",
        "        return self._state\n",
        "\n",
        "    @status.setter\n",
        "    def status(self,state) :\n",
        "        self._state = state\n",
        "\n",
        "    @property\n",
        "    def change_status(self) :\n",
        "        return Obj._state\n",
        "\n",
        "    @change_status.setter\n",
        "    def change_status(self,Obj) :\n",
        "        Obj._state = self._state\n",
        "        # self._state=state\n",
        "\n",
        "    @property\n",
        "    def change_status_date(self) :\n",
        "        return self._sdate \n",
        "\n",
        "    @change_status_date.setter\n",
        "    def change_status_date(self) :\n",
        "        x = datetime.now().strftime('%Y-%m-%d %H:%M:%S')\n",
        "        self._sdate = x \n",
        "\n",
        "    # self._state=state\n",
        "    #     # name=self.name\n",
        "\n",
        "    #     self.datetime.now().strftime('%Y-%n-%d %H:%M:%S')\n",
        "    #     self._sdate=datetime.now().strftime('%Y-%n-%d %H:%M:%S')\n",
        "    #     # Obj._sdate = self.datetime.now().strftime('%Y-%m-%d %H:%M:%S')\n",
        "    \n",
        "    \n",
        "    @property\n",
        "    def solvedDetails(self) :\n",
        "        \n",
        "        print( \"User entered an email :\", self.Obj._email )\n",
        "        print( \"User entered a tag name :\", self.Obj._tag )\n",
        "        print( \"User entered a bug Details :\",self.Obj._bug_description )\n",
        "        print( \"Current Status :\", self.Obj._state )\n",
        "        print(\"User Complain Id :\",self.Obj.id)\n",
        "        print( \"Solved by :\", self._name )\n",
        "        print( \"Solved time :\", self._sdate )\n",
        "\n",
        "    "
      ],
      "execution_count": null,
      "outputs": []
    },
    {
      "cell_type": "code",
      "metadata": {
        "id": "8PLMY2FzPekm"
      },
      "source": [
        "if __name__==\"__main__\":\n",
        "    dev=Dev()"
      ],
      "execution_count": null,
      "outputs": []
    },
    {
      "cell_type": "code",
      "metadata": {
        "id": "sRox6f6PMBNg"
      },
      "source": [
        "dev.name=\"DRONA\"\n",
        "dev.add_object = complain\n",
        "dev.status = \"Solved\"\n",
        "dev.change_status = complain"
      ],
      "execution_count": null,
      "outputs": []
    },
    {
      "cell_type": "code",
      "metadata": {
        "id": "QGr2wtQvArgA",
        "colab": {
          "base_uri": "https://localhost:8080/"
        },
        "outputId": "cec16738-f2cd-4e94-d9a9-3cc6aa2e3e2e"
      },
      "source": [
        "dev.change_status_date\n",
        "dev.solvedDetails"
      ],
      "execution_count": null,
      "outputs": [
        {
          "output_type": "stream",
          "text": [
            "User entered an email : nuraalamp@gmail.com\n",
            "User entered a tag name : Virus\n",
            "User entered a bug Details : Very Very Awry with Sharp Teeth Like Hazelnuts\n",
            "Current Status : Solved\n",
            "User Complain Id : 1\n",
            "Solved by : DRONA\n",
            "Solved time : 2021-03-30 19:02:01\n"
          ],
          "name": "stdout"
        }
      ]
    },
    {
      "cell_type": "code",
      "metadata": {
        "colab": {
          "base_uri": "https://localhost:8080/"
        },
        "id": "Vkka3aXh5h4h",
        "outputId": "d1cbeff1-209c-4ade-90cf-c28f26e93db6"
      },
      "source": [
        "complain.get_details"
      ],
      "execution_count": null,
      "outputs": [
        {
          "output_type": "stream",
          "text": [
            "User entered an email : nuraalamp@gmail.com\n",
            "User entered a tag name : Virus\n",
            "User entered a bug Details : Very Very Awry with Sharp Teeth Like Hazelnuts\n",
            "Current Status : Solved\n",
            "Log time : 2021-03-30 18:55:07\n",
            "Your Complain Id : 1\n"
          ],
          "name": "stdout"
        }
      ]
    },
    {
      "cell_type": "markdown",
      "metadata": {
        "id": "XkkfjfWVVctP"
      },
      "source": [
        ""
      ]
    },
    {
      "cell_type": "markdown",
      "metadata": {
        "id": "0lZf1szVVcjv"
      },
      "source": [
        ""
      ]
    },
    {
      "cell_type": "markdown",
      "metadata": {
        "id": "kCzHRUgjVchn"
      },
      "source": [
        ""
      ]
    },
    {
      "cell_type": "markdown",
      "metadata": {
        "id": "lOGILwIPVcX9"
      },
      "source": [
        ""
      ]
    },
    {
      "cell_type": "markdown",
      "metadata": {
        "id": "I2zC2VIoVb_l"
      },
      "source": [
        ""
      ]
    },
    {
      "cell_type": "code",
      "metadata": {
        "id": "QWnSti291HSB"
      },
      "source": [
        "class Try:\n",
        "\n",
        "    _counter = 0\n",
        "    def __init__(self):\n",
        "        Try._counter += 1\n",
        "        self.id = self._counter"
      ],
      "execution_count": null,
      "outputs": []
    },
    {
      "cell_type": "code",
      "metadata": {
        "id": "9d92uzu32Jy-"
      },
      "source": [
        "T=Try()\n",
        "P=Try()\n",
        "Q=Try()\n",
        "Q=Try()"
      ],
      "execution_count": null,
      "outputs": []
    },
    {
      "cell_type": "code",
      "metadata": {
        "id": "GJii5KnwF9LW"
      },
      "source": [
        "# # %%writefile BugTracker_Dev_Class.py\n",
        "# # from BugTracker import BugTracker\n",
        "# from datetime import date, time, datetime\n",
        "\n",
        "# class Dev:\n",
        "\n",
        "#     def __init__(self,name) :\n",
        "#         print( \"Please enter developer name :\" )\n",
        "#         self.name = \"name\"\n",
        "#         self._dev =name\n",
        "#         self._sdate=\"Not Valid\"\n",
        "\n",
        "#     def set_status(self,Obj,state=\"Solved\") :\n",
        "#         self._state=state\n",
        "#         Obj._state = self._state\n",
        "\n",
        "#         # name=self.name\n",
        "\n",
        "#         self.datetime.now().strftime('%Y-%n-%d %H:%M:%S')\n",
        "#         self._sdate=datetime.now().strftime('%Y-%n-%d %H:%M:%S')\n",
        "#         # Obj._sdate = self.datetime.now().strftime('%Y-%m-%d %H:%M:%S')\n",
        "\n",
        "#     def solvedDetails(self,Obj) :\n",
        "        \n",
        "#         print( \"User entered an email :\", Obj._email )\n",
        "#         print( \"User entered a tag name :\", Obj._tag )\n",
        "#         print( \"User entered a bug Details :\",Obj._bug_description )\n",
        "#         print( \"current Status :\", Obj._state )\n",
        "#         print( \"Solved by :\", self._dev )\n",
        "#         print( \"Solved time :\", self._sdate )\n",
        "\n",
        "    "
      ],
      "execution_count": null,
      "outputs": []
    },
    {
      "cell_type": "code",
      "metadata": {
        "colab": {
          "base_uri": "https://localhost:8080/"
        },
        "id": "KnbDjX18BKEN",
        "outputId": "55d54ec7-69d0-4173-b0b0-239e61d3a0f7"
      },
      "source": [
        "class Obj:\n",
        "    _counter = 0\n",
        "    def __init__(self):\n",
        "        Obj._counter += 1\n",
        "        self.id = Obj._counter"
      ],
      "execution_count": null,
      "outputs": [
        {
          "output_type": "execute_result",
          "data": {
            "text/plain": [
              "[1]"
            ]
          },
          "metadata": {
            "tags": []
          },
          "execution_count": 37
        }
      ]
    },
    {
      "cell_type": "code",
      "metadata": {
        "colab": {
          "base_uri": "https://localhost:8080/"
        },
        "id": "MkFVJsbiRMVb",
        "outputId": "3fde5878-2f63-498d-8e48-d9e292fb7ab4"
      },
      "source": [
        "def update():\n",
        "    _field=[\"Name\", \"Email\", \"Tag\" ,\"Bug Description\"]\n",
        "    FIELD=int(input(\"Input the field name you want to update : \"))\n",
        "    print(FIELD)\n",
        "    if FIELD ==1:\n",
        "        value=input(\"Input the desired value to update your \"+ _field[FIELD] )\n",
        "        try:\n",
        "            print(\"onlydb.update_complain(conn,cursor,FIELD,value,email)\")\n",
        "        except:\n",
        "            print(\"No Such Field Available\")\n",
        "update()"
      ],
      "execution_count": null,
      "outputs": [
        {
          "output_type": "stream",
          "text": [
            "Input the field name you want to update : 1\n",
            "1\n",
            "Input the desired value to update your Emaillolo\n",
            "onlydb.update_complain(conn,cursor,FIELD,value,email)\n"
          ],
          "name": "stdout"
        }
      ]
    }
  ]
}